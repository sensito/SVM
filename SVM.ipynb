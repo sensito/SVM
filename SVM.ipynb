{
 "cells": [
  {
   "cell_type": "markdown",
   "metadata": {},
   "source": [
    "#### Título: SVM\n",
    "#### Objetivo: Clasificación de correos SPAM\n",
    "\n",
    "##### Autores: \n",
    "##### Carrillo Rodríguez Rafael Alejandro\n",
    "##### López Martínez Alejandra\n",
    "##### Medina Barreras Daniel Ivan\n",
    "##### Ortiz Galván Angel Alberto\n",
    "##### Sandoval González Aranza Valeria\n",
    "\n",
    "\n",
    "\n",
    "\n",
    "##### Introducción\n",
    "\n",
    "Este cuaderno (notebook de python) contiene todo lo necesario para el correcto funcionamiento del programa\n",
    "\n",
    "\n",
    "En este ejemplo se muestra el uso de Apache Sparks con Python para clasificarCorreos SPAM. Este es un ejercicio tradicional en Inteligencia Artificial y constituye basicamenete un \"Hola Mundo\" (\"Hello World\"), como en todos los ambitos de la programación."
   ]
  },
  {
   "cell_type": "markdown",
   "metadata": {},
   "source": [
    "Problema: <strong>Clasificar Correos SPAM.</strong>\n",
    "\n",
    "Este es un algoritmo supervisado en donde se cuenta con una gran cantidad de ejemplos de correos SPAM que ya han sido clasificados. En base a este conocimiento, se realiza un modelo matemático de clasificación que nos permite, dado otra correos determinar que corre es SPAM y cual no."
   ]
  },
  {
   "cell_type": "markdown",
   "metadata": {},
   "source": [
    "un correo te ofrece como una serie de diferentes palabras\n",
    "\n",
    "\n",
    "El conjunto de datos (dataset) es un conjunto de correos propios.\n",
    "\n",
    "El conjunto MNIST consta de alrededor de poco mas de 100 correos de entrenamiento (training images).\n",
    "\n",
    "Por medio de los correos entrenamiento, se genera el modelo matemático y se obtienen los parámetros o pesos del modelo.\n",
    "\n",
    "Por medio de las unos correos de evaluación, se evalua de una manera muy ambigua el funcionamiento del modelo\n",
    "\n",
    "En resumen:\n",
    "\n",
    "Se cuenta con un arreglo para las etiquetas de los correos de entrenamiento\n",
    "\n",
    "Se cuenta con un par de bariables para los correos de evaluación"
   ]
  },
  {
   "cell_type": "markdown",
   "metadata": {},
   "source": [
    "### Tratamiento de los datos"
   ]
  },
  {
   "cell_type": "code",
   "execution_count": 9,
   "metadata": {},
   "outputs": [],
   "source": [
    "import glob2\n",
    "\n",
    "def data(route, name):\n",
    "    filenames = glob2.glob(route)  # list of all .txt files in the directory\n",
    "\n",
    "    with open(name, 'w', encoding='utf8') as f:\n",
    "        for file in filenames:\n",
    "            with open(file, encoding='utf8', errors='ignore') as infile:\n",
    "                f.write(infile.read()+'\\n')\n",
    "\n",
    "# We pass the route where the spam emails are and the name of the file\n",
    "data(route=\"./Datos/Spam/*.txt\", name='spam.txt')\n",
    "# We pass the route where the normal emails and the file name are\n",
    "data(route=\"./Datos/Normal/*.txt\", name='normal.txt')"
   ]
  },
  {
   "cell_type": "markdown",
   "metadata": {},
   "source": [
    "iniciar HDFS ejecutando start-dfs.cmd y start-yarn.cmd en cmd:\n",
    "\n",
    "%%bash\n",
    "\n",
    "#creamos la Carpeta FuentesMllib en Hadoop\n",
    "\n",
    "$hdfs dfs -mkdir /FuentesMllib\n",
    "\n",
    "#Subir archivos de spam.txt y normal.txt a la carpeta FuentesMllib en hadoop\n",
    "\n",
    "$hdfs dfs -copyFromLocal spam.txt /FuentesMllib\n",
    "\n",
    "$hdfs dfs -copyFromLocal normal.txt /FuentesMllib}\n",
    "\n",
    "Debe verificar que el namenode, datanode, resourcemanager y nodemanager se estén ejecutando. También puede abrir localhost: 8088 y localhost: 9870 en su navegador para monitorear su nuevo y brillante Sistema de archivos distribuidos Hadoop:"
   ]
  },
  {
   "cell_type": "markdown",
   "metadata": {},
   "source": [
    "### Iniciamos Spark"
   ]
  },
  {
   "cell_type": "code",
   "execution_count": null,
   "metadata": {},
   "outputs": [],
   "source": [
    "import findspark\n",
    "findspark.init()\n",
    "\n",
    "import pyspark\n",
    "from pyspark import SparkContext\n",
    "sc =SparkContext()"
   ]
  },
  {
   "cell_type": "markdown",
   "metadata": {},
   "source": [
    "#### Importamos las librerias necesarias para el funcinamiento del programa"
   ]
  },
  {
   "cell_type": "code",
   "execution_count": null,
   "metadata": {},
   "outputs": [],
   "source": [
    "from pyspark.mllib.regression import LabeledPoint\n",
    "from pyspark.mllib.feature import HashingTF\n",
    "from pyspark.mllib.classification import SVMWithSGD"
   ]
  },
  {
   "cell_type": "markdown",
   "metadata": {},
   "source": [
    "###### Leer archivos"
   ]
  },
  {
   "cell_type": "code",
   "execution_count": null,
   "metadata": {},
   "outputs": [],
   "source": [
    "spam = sc.textFile(\"hdfs://localhost:9000/FuentesMllib/spam.txt\")\n",
    "normal = sc.textFile(\"hdfs://localhost:9000/FuentesMllib/normal.txt\")"
   ]
  },
  {
   "cell_type": "markdown",
   "metadata": {},
   "source": [
    "##### Se crea una instancia HashingTF para asignar un numero hasta 10000 palabras diferentes"
   ]
  },
  {
   "cell_type": "code",
   "execution_count": null,
   "metadata": {},
   "outputs": [],
   "source": [
    "tf = HashingTF(numFeatures = 10000)"
   ]
  },
  {
   "cell_type": "markdown",
   "metadata": {},
   "source": [
    "###### Se divide los archivo por palabras y a cada palabra se le aplica la transformacion a numero"
   ]
  },
  {
   "cell_type": "code",
   "execution_count": null,
   "metadata": {},
   "outputs": [],
   "source": [
    "spamFeatures = spam.map(lambda email: tf.transform(email.split(\" \")))\n",
    "normalFeatures = normal.map(lambda email: tf.transform(email.split(\" \")))"
   ]
  },
  {
   "cell_type": "markdown",
   "metadata": {},
   "source": [
    "###### En este caso se crean conjuntos de datos con una estructura LabeledPoint\n",
    "###### Se asigna 1 a spam y 0 a normal\n",
    "###### Las etiquetas son:\n",
    "###### SPAM = 1\n",
    "###### NORMAL = 0"
   ]
  },
  {
   "cell_type": "code",
   "execution_count": null,
   "metadata": {},
   "outputs": [],
   "source": [
    "positiveExamples = spamFeatures.map(lambda features: LabeledPoint(1, features))\n",
    "negativeExamples = normalFeatures.map(lambda features: LabeledPoint(0, features))"
   ]
  },
  {
   "cell_type": "markdown",
   "metadata": {},
   "source": [
    "###### Se hace la union de los LabeledPoint"
   ]
  },
  {
   "cell_type": "code",
   "execution_count": null,
   "metadata": {},
   "outputs": [],
   "source": [
    "trainingData = positiveExamples.union(negativeExamples)"
   ]
  },
  {
   "cell_type": "code",
   "execution_count": null,
   "metadata": {},
   "outputs": [],
   "source": [
    "trainingData.cache()"
   ]
  },
  {
   "cell_type": "markdown",
   "metadata": {},
   "source": [
    "###### Ejecuta algoritmo SVM (Support Vector Machine) con SGD() para hacer el entenamiento "
   ]
  },
  {
   "cell_type": "code",
   "execution_count": null,
   "metadata": {},
   "outputs": [],
   "source": [
    "model = SVMWithSGD.train(trainingData)"
   ]
  },
  {
   "cell_type": "markdown",
   "metadata": {},
   "source": [
    "### Probamos para un ejemplo positivio de spam y luego uno negativo"
   ]
  },
  {
   "cell_type": "code",
   "execution_count": null,
   "metadata": {},
   "outputs": [],
   "source": [
    "#Aplicamos la misma trasformacion HashingTF para obtener los Vectores y luego aplicamos el modelo\n",
    "\n",
    "posTest = tf.transform(\"Un servicio personal de compras que provee legalmente drogas sin prescripcin mdica desde Canad y el resto del mundo. Haz tu pedido de Valium (Diazepam) y te garantizamos que lo tendrs en tu casa en 7 DAS.\".split(\" \"))\n",
    "\n",
    "print(\"Prediction for positive test example: %g\" % model.predict(posTest))"
   ]
  },
  {
   "cell_type": "code",
   "execution_count": null,
   "metadata": {},
   "outputs": [],
   "source": [
    "# Test de un correo normal\n",
    "negTest = tf.transform(\"Un servicio personal de compras que provee legalmente drogas sin prescripcin mdica desde Canad y el resto del mundo. Haz tu pedido de Valium (Diazepam) y te garantizamos que lo tendrs en tu casa en 7 DAS.\".split(\" \"))\n",
    "\n",
    "print (\"Prediction for negative test examples: %g\" % model.predict(negTest))"
   ]
  },
  {
   "cell_type": "code",
   "execution_count": null,
   "metadata": {},
   "outputs": [],
   "source": [
    "sc.stop()"
   ]
  }
 ],
 "metadata": {
  "kernelspec": {
   "display_name": "Python 3",
   "language": "python",
   "name": "python3"
  },
  "language_info": {
   "codemirror_mode": {
    "name": "ipython",
    "version": 3
   },
   "file_extension": ".py",
   "mimetype": "text/x-python",
   "name": "python",
   "nbconvert_exporter": "python",
   "pygments_lexer": "ipython3",
   "version": "3.7.4"
  }
 },
 "nbformat": 4,
 "nbformat_minor": 2
}
