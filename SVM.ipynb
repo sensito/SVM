{
 "cells": [
  {
   "cell_type": "code",
   "execution_count": null,
   "metadata": {},
   "outputs": [],
   "source": [
    "%%bash\n",
    "# Crear carpeta Mllib hadoop\n",
    "\n",
    "hdfs dfs -mkdir /FuentesMllib"
   ]
  },
  {
   "cell_type": "code",
   "execution_count": null,
   "metadata": {},
   "outputs": [],
   "source": [
    "%%bash\n",
    "#Subir archivos de spam.txt y normal.txt a la carpeta FuentesMllib en hadoop\n",
    "hdfs dfs -copyFromLocal spam.txt /FuentesMllib\n",
    "hdfs dfs -copyFromLocal normal.txt /FuentesMllib"
   ]
  },
  {
   "cell_type": "markdown",
   "metadata": {},
   "source": [
    "#### Iniciamos Spark"
   ]
  },
  {
   "cell_type": "code",
   "execution_count": null,
   "metadata": {},
   "outputs": [],
   "source": [
    "SC"
   ]
  },
  {
   "cell_type": "code",
   "execution_count": null,
   "metadata": {},
   "outputs": [],
   "source": [
    "from pyspark.mllib.regression import LabeledPoint\n",
    "from pyspark.mllib.feature import HashingTF\n",
    "from pyspark.mllib.classification import SVMWitsSGD"
   ]
  },
  {
   "cell_type": "code",
   "execution_count": null,
   "metadata": {},
   "outputs": [],
   "source": [
    "# Leer archivos\n",
    "spam = sc.textFile(\"/FuentesMLlib/spam.txt\")\n",
    "normal = sc.textFile(\"/FuentesMllib/normal.txt\")"
   ]
  },
  {
   "cell_type": "code",
   "execution_count": null,
   "metadata": {},
   "outputs": [],
   "source": [
    "# Se crea una instancia HashingTF para asignar un numero hasta 10000 palabras diferentes\n",
    "\n",
    "tf = HashingTF(numFeatures = 20000)"
   ]
  },
  {
   "cell_type": "code",
   "execution_count": null,
   "metadata": {},
   "outputs": [],
   "source": [
    "# Se divide los archivo por palabras y a cada palabra se le aplica la transformacion a numero\n",
    "\n",
    "spamFeatures = spam.map(lambda email: ft.transform(email.split(\" \")))\n",
    "normalFeatures = normal.map(lambda email: ft.transform(email.split(\" \")))"
   ]
  },
  {
   "cell_type": "code",
   "execution_count": null,
   "metadata": {},
   "outputs": [],
   "source": [
    "# En este caso se crean conjuntos de datos con una estructura LabeledPoint\n",
    "# Se asigna 1 a spam y 0 a normal\n",
    "\n",
    "positiveExamples = spamFeatures.map(lambda features: LabeledPoint(1, features))\n",
    "negativeExamples = normalFeatures.map(lambda features: LabeledPoint(0, features))"
   ]
  },
  {
   "cell_type": "markdown",
   "metadata": {},
   "source": [
    "### Las etiquetas son:\n",
    "### SPAM = 1\n",
    "### NORMAL = 0"
   ]
  },
  {
   "cell_type": "code",
   "execution_count": null,
   "metadata": {},
   "outputs": [],
   "source": [
    "# Se hace la union de los LabeledPoint\n",
    "trainingData = positiveExamples.union(negativeExamples)"
   ]
  },
  {
   "cell_type": "code",
   "execution_count": null,
   "metadata": {},
   "outputs": [],
   "source": [
    "trainingData.cache()"
   ]
  },
  {
   "cell_type": "code",
   "execution_count": null,
   "metadata": {},
   "outputs": [],
   "source": [
    "#Ejecuta algoritmo SVM (Support Vector Machine) con SGD() para hacer el entenamiento \n",
    "\n",
    "model = SVMWithsSGD.train(trainingData)"
   ]
  },
  {
   "cell_type": "markdown",
   "metadata": {},
   "source": [
    "### Probamos para un ejemplo positivio de spam y luego uno negativo"
   ]
  },
  {
   "cell_type": "code",
   "execution_count": null,
   "metadata": {},
   "outputs": [],
   "source": [
    "#Aplicamos la misma trasformacion HashingTF para obtener los Vectores y luego aplicamos el modelo\n",
    "\n",
    "posTest = tf.transform(\"Felicidades has ganado solo da clic ...\".split(\" \"))\n",
    "\n",
    "print(\"Prediction for positive test example: %g\" % model.predict(postTest))"
   ]
  },
  {
   "cell_type": "code",
   "execution_count": null,
   "metadata": {},
   "outputs": [],
   "source": [
    "# Test de un correo normal\n",
    "negTest = tf.transform(\"Hola Isral YA empece con Spark Machine Learning ...\".split(\" \")))\n",
    "\n",
    "print (\"Prediction for negative test examples: %g\" % model.predict(negTest))\n"
   ]
  }
 ],
 "metadata": {
  "kernelspec": {
   "display_name": "Python 3",
   "language": "python",
   "name": "python3"
  },
  "language_info": {
   "codemirror_mode": {
    "name": "ipython",
    "version": 3
   },
   "file_extension": ".py",
   "mimetype": "text/x-python",
   "name": "python",
   "nbconvert_exporter": "python",
   "pygments_lexer": "ipython3",
   "version": "3.7.4"
  }
 },
 "nbformat": 4,
 "nbformat_minor": 2
}
